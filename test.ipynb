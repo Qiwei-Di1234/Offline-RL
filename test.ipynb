{
 "cells": [
  {
   "cell_type": "code",
   "execution_count": 1,
   "metadata": {},
   "outputs": [],
   "source": [
    "import numpy as np\n",
    "\n",
    "# vector observation\n",
    "# 1000 steps of observations with shape of (100,)\n",
    "observations = np.random.random((1000, 100))\n",
    "\n",
    "# 1000 steps of actions with shape of (4,)\n",
    "actions = np.random.random((1000, 4))\n",
    "\n",
    "# 1000 steps of rewards\n",
    "rewards = np.random.random(1000)\n",
    "\n",
    "# 1000 steps of terminal flags\n",
    "terminals = np.random.randint(2, size=1000)"
   ]
  },
  {
   "cell_type": "code",
   "execution_count": 5,
   "metadata": {},
   "outputs": [
    {
     "name": "stdout",
     "output_type": "stream",
     "text": [
      "States shape: (1000, 100)\n",
      "Actions shape: (1000, 4)\n",
      "Rewards shape: (1000,)\n",
      "Dones shape: (1000,)\n",
      "States dtype: float64\n",
      "Actions dtype: float64\n",
      "Rewards dtype: float64\n",
      "Dones dtype: int64\n"
     ]
    }
   ],
   "source": [
    "import d3rlpy\n",
    "print(\"States shape:\", observations.shape)\n",
    "print(\"Actions shape:\", actions.shape)\n",
    "print(\"Rewards shape:\", rewards.shape)\n",
    "print(\"Dones shape:\", terminals.shape)\n",
    "\n",
    "print(\"States dtype:\", observations.dtype)\n",
    "print(\"Actions dtype:\", actions.dtype)\n",
    "print(\"Rewards dtype:\", rewards.dtype)\n",
    "print(\"Dones dtype:\", terminals.dtype)\n",
    "dataset = d3rlpy.dataset.MDPDataset(\n",
    "    observations=observations,\n",
    "    actions=actions,\n",
    "    rewards=rewards,\n",
    "    terminals=terminals,\n",
    ")"
   ]
  }
 ],
 "metadata": {
  "kernelspec": {
   "display_name": "offline",
   "language": "python",
   "name": "python3"
  },
  "language_info": {
   "codemirror_mode": {
    "name": "ipython",
    "version": 3
   },
   "file_extension": ".py",
   "mimetype": "text/x-python",
   "name": "python",
   "nbconvert_exporter": "python",
   "pygments_lexer": "ipython3",
   "version": "3.9.16"
  },
  "orig_nbformat": 4
 },
 "nbformat": 4,
 "nbformat_minor": 2
}
